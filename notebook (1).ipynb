{
 "cells": [
  {
   "cell_type": "code",
   "execution_count": null,
   "id": "dramatic-hampshire",
   "metadata": {
    "scrolled": true
   },
   "outputs": [
    {
     "name": "stdout",
     "output_type": "stream",
     "text": [
      "\u001b[31mERROR: pip's dependency resolver does not currently take into account all the packages that are installed. This behaviour is the source of the following dependency conflicts.\n",
      "tensorflow 2.4.1 requires numpy~=1.19.2, but you have numpy 1.22.3 which is incompatible.\n",
      "tensorflow 2.4.1 requires six~=1.15.0, but you have six 1.16.0 which is incompatible.\n",
      "black 21.7b0 requires tomli<2.0.0,>=0.2.6, but you have tomli 2.0.1 which is incompatible.\n",
      "pythonwhat 2.23.1 requires dill~=0.2.7.1, but you have dill 0.3.3 which is incompatible.\n",
      "pythonwhat 2.23.1 requires jinja2~=2.10, but you have jinja2 3.0.1 which is incompatible.\u001b[0m\n"
     ]
    }
   ],
   "source": [
    "# Use this cell to begin, and add as many cells as you need to complete your analysis!\n",
    "!pip install -qq fancyimpute"
   ]
  },
  {
   "cell_type": "markdown",
   "id": "3b1bf6d6-6ffc-4f85-a3be-efc8760c014b",
   "metadata": {},
   "source": [
    "## Importing Necessary Packages\n",
    "\n",
    "Let's import the necessary packages"
   ]
  },
  {
   "cell_type": "code",
   "execution_count": null,
   "id": "1e5d445f-8aa9-4e4e-a3eb-0cd074b384bb",
   "metadata": {},
   "outputs": [],
   "source": [
    "import pandas as pd\n",
    "import numpy as np\n",
    "from fancyimpute import KNN\n",
    "from sklearn.cluster import KMeans\n",
    "from sklearn.preprocessing import OrdinalEncoder\n",
    "from sklearn.decomposition import PCA\n",
    "import matplotlib.pyplot as plt\n",
    "import seaborn as sns"
   ]
  },
  {
   "cell_type": "markdown",
   "id": "ca651264-3c2f-4cd0-9b70-97097916cd49",
   "metadata": {},
   "source": [
    "## Data Preprocessing\n",
    "\n",
    "Now I read the data using pandas and then do some preprocessing steps on data before feeding the data into the model and gain insights about the data."
   ]
  },
  {
   "cell_type": "code",
   "execution_count": null,
   "id": "cd4af26e-e2da-4d5f-b411-beb2ce3586d6",
   "metadata": {},
   "outputs": [
    {
     "data": {
      "application/com.datacamp.data-table.v1+json": {
       "is_truncated": false,
       "table": {
        "data": [
         {
          "achievements": 54,
          "developer": "id Software",
          "index": 0,
          "mature": false,
          "multiplayer": true,
          "name": "DOOM",
          "num_reviews": 42550,
          "original_price": "$19.99",
          "percent_positive": "92%",
          "release_date": "May 12, 2016"
         },
         {
          "achievements": 37,
          "developer": "PUBG Corporation",
          "index": 1,
          "mature": true,
          "multiplayer": true,
          "name": "PLAYERUNKNOWN'S BATTLEGROUNDS",
          "num_reviews": 836608,
          "original_price": "$29.99",
          "percent_positive": "49%",
          "release_date": "Dec 21, 2017"
         },
         {
          "achievements": 128,
          "developer": "Harebrained Schemes",
          "index": 2,
          "mature": false,
          "multiplayer": true,
          "name": "BATTLETECH",
          "num_reviews": 7030,
          "original_price": "$39.99",
          "percent_positive": "71%",
          "release_date": "Apr 24, 2018"
         },
         {
          "achievements": null,
          "developer": "Bohemia Interactive",
          "index": 3,
          "mature": false,
          "multiplayer": true,
          "name": "DayZ",
          "num_reviews": 167115,
          "original_price": "$44.99",
          "percent_positive": "61%",
          "release_date": "Dec 13, 2018"
         },
         {
          "achievements": null,
          "developer": "CCP",
          "index": 4,
          "mature": false,
          "multiplayer": true,
          "name": "EVE Online",
          "num_reviews": 11481,
          "original_price": "Free",
          "percent_positive": "74%",
          "release_date": "May 6, 2003"
         }
        ],
        "schema": {
         "fields": [
          {
           "name": "index",
           "type": "integer"
          },
          {
           "name": "name",
           "type": "string"
          },
          {
           "name": "release_date",
           "type": "string"
          },
          {
           "name": "developer",
           "type": "string"
          },
          {
           "name": "achievements",
           "type": "number"
          },
          {
           "name": "original_price",
           "type": "string"
          },
          {
           "name": "percent_positive",
           "type": "string"
          },
          {
           "name": "num_reviews",
           "type": "number"
          },
          {
           "name": "multiplayer",
           "type": "string"
          },
          {
           "name": "mature",
           "type": "boolean"
          }
         ],
         "pandas_version": "0.20.0",
         "primaryKey": [
          "index"
         ]
        }
       },
       "total_rows": 5
      },
      "text/html": [
       "<div>\n",
       "<style scoped>\n",
       "    .dataframe tbody tr th:only-of-type {\n",
       "        vertical-align: middle;\n",
       "    }\n",
       "\n",
       "    .dataframe tbody tr th {\n",
       "        vertical-align: top;\n",
       "    }\n",
       "\n",
       "    .dataframe thead th {\n",
       "        text-align: right;\n",
       "    }\n",
       "</style>\n",
       "<table border=\"1\" class=\"dataframe\">\n",
       "  <thead>\n",
       "    <tr style=\"text-align: right;\">\n",
       "      <th></th>\n",
       "      <th>name</th>\n",
       "      <th>release_date</th>\n",
       "      <th>developer</th>\n",
       "      <th>achievements</th>\n",
       "      <th>original_price</th>\n",
       "      <th>percent_positive</th>\n",
       "      <th>num_reviews</th>\n",
       "      <th>multiplayer</th>\n",
       "      <th>mature</th>\n",
       "    </tr>\n",
       "  </thead>\n",
       "  <tbody>\n",
       "    <tr>\n",
       "      <th>0</th>\n",
       "      <td>DOOM</td>\n",
       "      <td>May 12, 2016</td>\n",
       "      <td>id Software</td>\n",
       "      <td>54.0</td>\n",
       "      <td>$19.99</td>\n",
       "      <td>92%</td>\n",
       "      <td>42550.0</td>\n",
       "      <td>True</td>\n",
       "      <td>False</td>\n",
       "    </tr>\n",
       "    <tr>\n",
       "      <th>1</th>\n",
       "      <td>PLAYERUNKNOWN'S BATTLEGROUNDS</td>\n",
       "      <td>Dec 21, 2017</td>\n",
       "      <td>PUBG Corporation</td>\n",
       "      <td>37.0</td>\n",
       "      <td>$29.99</td>\n",
       "      <td>49%</td>\n",
       "      <td>836608.0</td>\n",
       "      <td>True</td>\n",
       "      <td>True</td>\n",
       "    </tr>\n",
       "    <tr>\n",
       "      <th>2</th>\n",
       "      <td>BATTLETECH</td>\n",
       "      <td>Apr 24, 2018</td>\n",
       "      <td>Harebrained Schemes</td>\n",
       "      <td>128.0</td>\n",
       "      <td>$39.99</td>\n",
       "      <td>71%</td>\n",
       "      <td>7030.0</td>\n",
       "      <td>True</td>\n",
       "      <td>False</td>\n",
       "    </tr>\n",
       "    <tr>\n",
       "      <th>3</th>\n",
       "      <td>DayZ</td>\n",
       "      <td>Dec 13, 2018</td>\n",
       "      <td>Bohemia Interactive</td>\n",
       "      <td>NaN</td>\n",
       "      <td>$44.99</td>\n",
       "      <td>61%</td>\n",
       "      <td>167115.0</td>\n",
       "      <td>True</td>\n",
       "      <td>False</td>\n",
       "    </tr>\n",
       "    <tr>\n",
       "      <th>4</th>\n",
       "      <td>EVE Online</td>\n",
       "      <td>May 6, 2003</td>\n",
       "      <td>CCP</td>\n",
       "      <td>NaN</td>\n",
       "      <td>Free</td>\n",
       "      <td>74%</td>\n",
       "      <td>11481.0</td>\n",
       "      <td>True</td>\n",
       "      <td>False</td>\n",
       "    </tr>\n",
       "  </tbody>\n",
       "</table>\n",
       "</div>"
      ],
      "text/plain": [
       "                            name  release_date            developer  \\\n",
       "0                           DOOM  May 12, 2016          id Software   \n",
       "1  PLAYERUNKNOWN'S BATTLEGROUNDS  Dec 21, 2017     PUBG Corporation   \n",
       "2                     BATTLETECH  Apr 24, 2018  Harebrained Schemes   \n",
       "3                           DayZ  Dec 13, 2018  Bohemia Interactive   \n",
       "4                     EVE Online   May 6, 2003                  CCP   \n",
       "\n",
       "   achievements original_price percent_positive  num_reviews multiplayer  \\\n",
       "0          54.0         $19.99              92%      42550.0        True   \n",
       "1          37.0         $29.99              49%     836608.0        True   \n",
       "2         128.0         $39.99              71%       7030.0        True   \n",
       "3           NaN         $44.99              61%     167115.0        True   \n",
       "4           NaN           Free              74%      11481.0        True   \n",
       "\n",
       "   mature  \n",
       "0   False  \n",
       "1    True  \n",
       "2   False  \n",
       "3   False  \n",
       "4   False  "
      ]
     },
     "execution_count": 3,
     "metadata": {},
     "output_type": "execute_result"
    }
   ],
   "source": [
    "data = pd.read_csv(\"data/video_games.csv\")\n",
    "data.head()"
   ]
  },
  {
   "cell_type": "markdown",
   "id": "af3989d1-0394-4906-9dbc-e5c651f45d73",
   "metadata": {},
   "source": [
    "it seems that in **original_price** column, there are mixed type data and in the **percent_positive** column, there is a `$` sign with the numerical value. We have to fix this."
   ]
  },
  {
   "cell_type": "code",
   "execution_count": null,
   "id": "898ec408-0c7e-4d91-a8ce-fa954969471e",
   "metadata": {},
   "outputs": [
    {
     "data": {
      "text/plain": [
       "name                   16\n",
       "release_date         3179\n",
       "developer             343\n",
       "achievements        28639\n",
       "original_price       5311\n",
       "percent_positive    23470\n",
       "num_reviews         23470\n",
       "multiplayer           520\n",
       "mature                  0\n",
       "dtype: int64"
      ]
     },
     "execution_count": 4,
     "metadata": {},
     "output_type": "execute_result"
    }
   ],
   "source": [
    "data.isnull().sum()"
   ]
  },
  {
   "cell_type": "code",
   "execution_count": null,
   "id": "43bf6a09-700e-43d7-a3ab-5e5e49521e72",
   "metadata": {},
   "outputs": [
    {
     "data": {
      "text/plain": [
       "<AxesSubplot:>"
      ]
     },
     "execution_count": 5,
     "metadata": {},
     "output_type": "execute_result"
    },
    {
     "data": {
      "image/png": "[encoded data removed]",
      "text/plain": [
       "<Figure size 720x576 with 2 Axes>"
      ]
     },
     "metadata": {
      "needs_background": "light"
     },
     "output_type": "display_data"
    }
   ],
   "source": [
    "plt.figure(figsize=(10,8))\n",
    "sns.heatmap(data.isnull(), cmap='magma', yticklabels=False)"
   ]
  },
  {
   "cell_type": "code",
   "execution_count": null,
   "id": "b8b960ca-cd81-42e1-99e9-b9bf38f828ee",
   "metadata": {},
   "outputs": [
    {
     "name": "stdout",
     "output_type": "stream",
     "text": [
      "<class 'pandas.core.frame.DataFrame'>\n",
      "RangeIndex: 40833 entries, 0 to 40832\n",
      "Data columns (total 9 columns):\n",
      " #   Column            Non-Null Count  Dtype  \n",
      "---  ------            --------------  -----  \n",
      " 0   name              40817 non-null  object \n",
      " 1   release_date      37654 non-null  object \n",
      " 2   developer         40490 non-null  object \n",
      " 3   achievements      12194 non-null  float64\n",
      " 4   original_price    35522 non-null  object \n",
      " 5   percent_positive  17363 non-null  object \n",
      " 6   num_reviews       17363 non-null  float64\n",
      " 7   multiplayer       40313 non-null  object \n",
      " 8   mature            40833 non-null  bool   \n",
      "dtypes: bool(1), float64(2), object(6)\n",
      "memory usage: 2.5+ MB\n"
     ]
    }
   ],
   "source": [
    "data.info()"
   ]
  },
  {
   "cell_type": "code",
   "execution_count": null,
   "id": "d92bf7a4-a747-4d52-b078-c0260cabdf84",
   "metadata": {},
   "outputs": [
    {
     "data": {
      "text/plain": [
       "array(['$19.99', '$29.99', '$39.99', '$44.99', 'Free', nan, '$59.99',\n",
       "       '$14.99', '$49.99', 'Free to Play', '1.020', 'Free To Play',\n",
       "       '$9.99', '$12.99', '$57.91', '$7.99', '$6.99', '$24.99',\n",
       "       'Demo Middle-earth™: Shadow of War™', 'Play for Free!', '$13.99',\n",
       "       '$59.98', '$69.99', '$76.95', '$84.97', '$58.89', '$8.99',\n",
       "       '$75.95', '$34.99', '$151.89', '$4.99', '$84.93', '$86.92',\n",
       "       '$20.00', '$15.99', '$9.98',\n",
       "       'Shadow of the Tomb Raider Free Trial', '$5.99', '$11.99',\n",
       "       '$32.98', '$21.98',\n",
       "       'FINAL FANTASY XV WINDOWS EDITION PLAYABLE DEMO', '$28.00', 'UNO',\n",
       "       '$79.99', '$59.95', '$3.99', '$30.00', '$17.99', '$57.98'],\n",
       "      dtype=object)"
      ]
     },
     "execution_count": 7,
     "metadata": {},
     "output_type": "execute_result"
    }
   ],
   "source": [
    "data['original_price'].unique()[:50]"
   ]
  },
  {
   "cell_type": "markdown",
   "id": "17e2c01c-31aa-49cf-83d2-4fbb9c7bfdd5",
   "metadata": {},
   "source": [
    "Now this is the time for drop some columns. **release_date** and **achievements** neither matters for searching for a game nor determining the genre. and for now, I am removing the **original_price** column for simplicity."
   ]
  },
  {
   "cell_type": "code",
   "execution_count": null,
   "id": "375f1bde-8f2d-4205-83a2-48abc57020c3",
   "metadata": {},
   "outputs": [
    {
     "data": {
      "application/com.datacamp.data-table.v1+json": {
       "is_truncated": false,
       "table": {
        "data": [
         {
          "developer": "id Software",
          "index": 0,
          "mature": false,
          "multiplayer": true,
          "name": "DOOM",
          "num_reviews": 42550,
          "percent_positive": "92%"
         },
         {
          "developer": "PUBG Corporation",
          "index": 1,
          "mature": true,
          "multiplayer": true,
          "name": "PLAYERUNKNOWN'S BATTLEGROUNDS",
          "num_reviews": 836608,
          "percent_positive": "49%"
         },
         {
          "developer": "Harebrained Schemes",
          "index": 2,
          "mature": false,
          "multiplayer": true,
          "name": "BATTLETECH",
          "num_reviews": 7030,
          "percent_positive": "71%"
         },
         {
          "developer": "Bohemia Interactive",
          "index": 3,
          "mature": false,
          "multiplayer": true,
          "name": "DayZ",
          "num_reviews": 167115,
          "percent_positive": "61%"
         },
         {
          "developer": "CCP",
          "index": 4,
          "mature": false,
          "multiplayer": true,
          "name": "EVE Online",
          "num_reviews": 11481,
          "percent_positive": "74%"
         }
        ],
        "schema": {
         "fields": [
          {
           "name": "index",
           "type": "integer"
          },
          {
           "name": "name",
           "type": "string"
          },
          {
           "name": "developer",
           "type": "string"
          },
          {
           "name": "percent_positive",
           "type": "string"
          },
          {
           "name": "num_reviews",
           "type": "number"
          },
          {
           "name": "multiplayer",
           "type": "string"
          },
          {
           "name": "mature",
           "type": "boolean"
          }
         ],
         "pandas_version": "0.20.0",
         "primaryKey": [
          "index"
         ]
        }
       },
       "total_rows": 5
      },
      "text/html": [
       "<div>\n",
       "<style scoped>\n",
       "    .dataframe tbody tr th:only-of-type {\n",
       "        vertical-align: middle;\n",
       "    }\n",
       "\n",
       "    .dataframe tbody tr th {\n",
       "        vertical-align: top;\n",
       "    }\n",
       "\n",
       "    .dataframe thead th {\n",
       "        text-align: right;\n",
       "    }\n",
       "</style>\n",
       "<table border=\"1\" class=\"dataframe\">\n",
       "  <thead>\n",
       "    <tr style=\"text-align: right;\">\n",
       "      <th></th>\n",
       "      <th>name</th>\n",
       "      <th>developer</th>\n",
       "      <th>percent_positive</th>\n",
       "      <th>num_reviews</th>\n",
       "      <th>multiplayer</th>\n",
       "      <th>mature</th>\n",
       "    </tr>\n",
       "  </thead>\n",
       "  <tbody>\n",
       "    <tr>\n",
       "      <th>0</th>\n",
       "      <td>DOOM</td>\n",
       "      <td>id Software</td>\n",
       "      <td>92%</td>\n",
       "      <td>42550.0</td>\n",
       "      <td>True</td>\n",
       "      <td>False</td>\n",
       "    </tr>\n",
       "    <tr>\n",
       "      <th>1</th>\n",
       "      <td>PLAYERUNKNOWN'S BATTLEGROUNDS</td>\n",
       "      <td>PUBG Corporation</td>\n",
       "      <td>49%</td>\n",
       "      <td>836608.0</td>\n",
       "      <td>True</td>\n",
       "      <td>True</td>\n",
       "    </tr>\n",
       "    <tr>\n",
       "      <th>2</th>\n",
       "      <td>BATTLETECH</td>\n",
       "      <td>Harebrained Schemes</td>\n",
       "      <td>71%</td>\n",
       "      <td>7030.0</td>\n",
       "      <td>True</td>\n",
       "      <td>False</td>\n",
       "    </tr>\n",
       "    <tr>\n",
       "      <th>3</th>\n",
       "      <td>DayZ</td>\n",
       "      <td>Bohemia Interactive</td>\n",
       "      <td>61%</td>\n",
       "      <td>167115.0</td>\n",
       "      <td>True</td>\n",
       "      <td>False</td>\n",
       "    </tr>\n",
       "    <tr>\n",
       "      <th>4</th>\n",
       "      <td>EVE Online</td>\n",
       "      <td>CCP</td>\n",
       "      <td>74%</td>\n",
       "      <td>11481.0</td>\n",
       "      <td>True</td>\n",
       "      <td>False</td>\n",
       "    </tr>\n",
       "  </tbody>\n",
       "</table>\n",
       "</div>"
      ],
      "text/plain": [
       "                            name            developer percent_positive  \\\n",
       "0                           DOOM          id Software              92%   \n",
       "1  PLAYERUNKNOWN'S BATTLEGROUNDS     PUBG Corporation              49%   \n",
       "2                     BATTLETECH  Harebrained Schemes              71%   \n",
       "3                           DayZ  Bohemia Interactive              61%   \n",
       "4                     EVE Online                  CCP              74%   \n",
       "\n",
       "   num_reviews multiplayer  mature  \n",
       "0      42550.0        True   False  \n",
       "1     836608.0        True    True  \n",
       "2       7030.0        True   False  \n",
       "3     167115.0        True   False  \n",
       "4      11481.0        True   False  "
      ]
     },
     "execution_count": 8,
     "metadata": {},
     "output_type": "execute_result"
    }
   ],
   "source": [
    "data.drop(['release_date', 'achievements', 'original_price'], axis=1, inplace=True)\n",
    "data.head()"
   ]
  },
  {
   "cell_type": "markdown",
   "id": "a6d5f3fc-b237-4b1f-b364-dc32ea533f6b",
   "metadata": {},
   "source": [
    "### Removing the null values names and other null featured column\n",
    "\n",
    "Now we can see from the above result, we can see that there are so much null values in the data. So for better imputation I am using the **KNearestNeighbors** algorithm from fancyimpute package. But before doing that, I want to remove some of the null values:\n",
    "\n",
    "- rows containing **name** columns as null, because this make no sense for imputing those using **KNN**.\n",
    "- rows containing **developer**, **percent_positive**, **num_reviews**, **multiplayer** as null, because those are the main features. Without    those values, **KNN** will unable to find a pattern for replace those values."
   ]
  },
  {
   "cell_type": "code",
   "execution_count": null,
   "id": "ddc4e3d4-1761-43c6-a0f8-27c274ef1477",
   "metadata": {},
   "outputs": [
    {
     "data": {
      "text/plain": [
       "(40817, 6)"
      ]
     },
     "execution_count": 9,
     "metadata": {},
     "output_type": "execute_result"
    }
   ],
   "source": [
    "data = data[data['name'].notnull()]\n",
    "data.shape"
   ]
  },
  {
   "cell_type": "code",
   "execution_count": null,
   "id": "2e207aa1-1298-4bb5-af1a-a1df775d445b",
   "metadata": {},
   "outputs": [],
   "source": [
    "mask = data['developer'].isnull() & data['percent_positive'].isnull() & data['num_reviews'].isnull() & data['multiplayer'].isnull()\n",
    "drop_index = list(data[mask].index)"
   ]
  },
  {
   "cell_type": "code",
   "execution_count": null,
   "id": "7466941f-ecf4-4c29-a173-45e2fd88a4b7",
   "metadata": {},
   "outputs": [],
   "source": [
    "data.drop(drop_index, inplace=True)"
   ]
  },
  {
   "cell_type": "code",
   "execution_count": null,
   "id": "f2fd37a1-60f4-4b6b-a09c-f3f021fbccd9",
   "metadata": {},
   "outputs": [
    {
     "data": {
      "text/plain": [
       "(40748, 6)"
      ]
     },
     "execution_count": 12,
     "metadata": {},
     "output_type": "execute_result"
    }
   ],
   "source": [
    "data.shape"
   ]
  },
  {
   "cell_type": "code",
   "execution_count": null,
   "id": "bd0e42ed-ca88-4574-94b2-74b08da2334d",
   "metadata": {},
   "outputs": [],
   "source": [
    "data['percent_positive'] = data['percent_positive'].str.replace('%', ' ')\n",
    "data['percent_positive'] = data['percent_positive'].astype('float')"
   ]
  },
  {
   "cell_type": "markdown",
   "id": "9d40ee77-b931-4362-96e5-7f48d16d62cc",
   "metadata": {},
   "source": [
    "As this is a very Huge dataset, So I have to take a small part of this. I took two part from the data. One for training and one for testing. After that, I encode the categorical variables and impute them."
   ]
  },
  {
   "cell_type": "code",
   "execution_count": null,
   "id": "e994dcaa-4e2c-4a9f-9a8e-496d90400724",
   "metadata": {},
   "outputs": [
    {
     "name": "stdout",
     "output_type": "stream",
     "text": [
      "(10000, 6)\n",
      "(10000, 6)\n"
     ]
    }
   ],
   "source": [
    "data1 = data[:10000]\n",
    "data2 = data[10000: 20000]\n",
    "print(data1.shape)\n",
    "print(data2.shape)"
   ]
  },
  {
   "cell_type": "code",
   "execution_count": null,
   "id": "c8b3c0a4-f848-4adc-82d5-fd605c0be97f",
   "metadata": {},
   "outputs": [],
   "source": [
    "from sklearn.preprocessing import OrdinalEncoder\n",
    "\n",
    "ordinal_enc_dict1 = {}\n",
    "cols = ['name', 'developer', 'multiplayer', 'mature']\n",
    "\n",
    "for col_name in cols:\n",
    "    \n",
    "    ordinal_enc_dict1[col_name] = OrdinalEncoder()\n",
    "    col = data1[col_name]\n",
    "    \n",
    "    col_not_null = col[col.notnull()]\n",
    "    reshaped_vals = col_not_null.values.reshape(-1, 1)\n",
    "    encoded_vals = ordinal_enc_dict1[col_name].fit_transform(reshaped_vals)\n",
    "    \n",
    "    data1.loc[col.notnull(), col_name] = np.squeeze(encoded_vals)\n",
    "    \n",
    "    \n",
    "ordinal_enc_dict2 = {}\n",
    "cols = ['name', 'developer', 'multiplayer', 'mature']\n",
    "\n",
    "for col_name in cols:\n",
    "    \n",
    "    ordinal_enc_dict2[col_name] = OrdinalEncoder()\n",
    "    col = data2[col_name]\n",
    "    \n",
    "    col_not_null = col[col.notnull()]\n",
    "    reshaped_vals = col_not_null.values.reshape(-1, 1)\n",
    "    encoded_vals = ordinal_enc_dict2[col_name].fit_transform(reshaped_vals)\n",
    "    \n",
    "    data2.loc[col.notnull(), col_name] = np.squeeze(encoded_vals)"
   ]
  },
  {
   "cell_type": "code",
   "execution_count": null,
   "id": "2a317a2c-0afa-4d61-8719-f382468352ba",
   "metadata": {},
   "outputs": [
    {
     "data": {
      "application/com.datacamp.data-table.v1+json": {
       "is_truncated": false,
       "table": {
        "data": [
         {
          "developer": 5393,
          "index": 0,
          "mature": 0,
          "multiplayer": 1,
          "name": 1862,
          "num_reviews": 42550,
          "percent_positive": 92
         },
         {
          "developer": 3409,
          "index": 1,
          "mature": 1,
          "multiplayer": 1,
          "name": 5916,
          "num_reviews": 836608,
          "percent_positive": 49
         },
         {
          "developer": 2003,
          "index": 2,
          "mature": 0,
          "multiplayer": 1,
          "name": 666,
          "num_reviews": 7030,
          "percent_positive": 71
         },
         {
          "developer": 641,
          "index": 3,
          "mature": 0,
          "multiplayer": 1,
          "name": 1998,
          "num_reviews": 167115,
          "percent_positive": 61
         },
         {
          "developer": 733,
          "index": 4,
          "mature": 0,
          "multiplayer": 1,
          "name": 2529,
          "num_reviews": 11481,
          "percent_positive": 74
         },
         {
          "developer": 3904,
          "index": 5,
          "mature": 0,
          "multiplayer": 1,
          "name": 3489,
          "num_reviews": null,
          "percent_positive": null
         },
         {
          "developer": 727,
          "index": 6,
          "mature": 1,
          "multiplayer": 1,
          "name": 2190,
          "num_reviews": 9645,
          "percent_positive": 92
         },
         {
          "developer": 3229,
          "index": 7,
          "mature": 0,
          "multiplayer": 1,
          "name": 3984,
          "num_reviews": 23763,
          "percent_positive": 91
         },
         {
          "developer": 3273,
          "index": 8,
          "mature": 0,
          "multiplayer": 0,
          "name": 8611,
          "num_reviews": 12127,
          "percent_positive": 85
         },
         {
          "developer": 1416,
          "index": 9,
          "mature": 1,
          "multiplayer": 1,
          "name": 9369,
          "num_reviews": 904,
          "percent_positive": 44
         }
        ],
        "schema": {
         "fields": [
          {
           "name": "index",
           "type": "integer"
          },
          {
           "name": "name",
           "type": "number"
          },
          {
           "name": "developer",
           "type": "string"
          },
          {
           "name": "percent_positive",
           "type": "number"
          },
          {
           "name": "num_reviews",
           "type": "number"
          },
          {
           "name": "multiplayer",
           "type": "string"
          },
          {
           "name": "mature",
           "type": "number"
          }
         ],
         "pandas_version": "0.20.0",
         "primaryKey": [
          "index"
         ]
        }
       },
       "total_rows": 10
      },
      "text/html": [
       "<div>\n",
       "<style scoped>\n",
       "    .dataframe tbody tr th:only-of-type {\n",
       "        vertical-align: middle;\n",
       "    }\n",
       "\n",
       "    .dataframe tbody tr th {\n",
       "        vertical-align: top;\n",
       "    }\n",
       "\n",
       "    .dataframe thead th {\n",
       "        text-align: right;\n",
       "    }\n",
       "</style>\n",
       "<table border=\"1\" class=\"dataframe\">\n",
       "  <thead>\n",
       "    <tr style=\"text-align: right;\">\n",
       "      <th></th>\n",
       "      <th>name</th>\n",
       "      <th>developer</th>\n",
       "      <th>percent_positive</th>\n",
       "      <th>num_reviews</th>\n",
       "      <th>multiplayer</th>\n",
       "      <th>mature</th>\n",
       "    </tr>\n",
       "  </thead>\n",
       "  <tbody>\n",
       "    <tr>\n",
       "      <th>0</th>\n",
       "      <td>1862.0</td>\n",
       "      <td>5393.0</td>\n",
       "      <td>92.0</td>\n",
       "      <td>42550.0</td>\n",
       "      <td>1.0</td>\n",
       "      <td>0.0</td>\n",
       "    </tr>\n",
       "    <tr>\n",
       "      <th>1</th>\n",
       "      <td>5916.0</td>\n",
       "      <td>3409.0</td>\n",
       "      <td>49.0</td>\n",
       "      <td>836608.0</td>\n",
       "      <td>1.0</td>\n",
       "      <td>1.0</td>\n",
       "    </tr>\n",
       "    <tr>\n",
       "      <th>2</th>\n",
       "      <td>666.0</td>\n",
       "      <td>2003.0</td>\n",
       "      <td>71.0</td>\n",
       "      <td>7030.0</td>\n",
       "      <td>1.0</td>\n",
       "      <td>0.0</td>\n",
       "    </tr>\n",
       "    <tr>\n",
       "      <th>3</th>\n",
       "      <td>1998.0</td>\n",
       "      <td>641.0</td>\n",
       "      <td>61.0</td>\n",
       "      <td>167115.0</td>\n",
       "      <td>1.0</td>\n",
       "      <td>0.0</td>\n",
       "    </tr>\n",
       "    <tr>\n",
       "      <th>4</th>\n",
       "      <td>2529.0</td>\n",
       "      <td>733.0</td>\n",
       "      <td>74.0</td>\n",
       "      <td>11481.0</td>\n",
       "      <td>1.0</td>\n",
       "      <td>0.0</td>\n",
       "    </tr>\n",
       "    <tr>\n",
       "      <th>5</th>\n",
       "      <td>3489.0</td>\n",
       "      <td>3904.0</td>\n",
       "      <td>NaN</td>\n",
       "      <td>NaN</td>\n",
       "      <td>1.0</td>\n",
       "      <td>0.0</td>\n",
       "    </tr>\n",
       "    <tr>\n",
       "      <th>6</th>\n",
       "      <td>2190.0</td>\n",
       "      <td>727.0</td>\n",
       "      <td>92.0</td>\n",
       "      <td>9645.0</td>\n",
       "      <td>1.0</td>\n",
       "      <td>1.0</td>\n",
       "    </tr>\n",
       "    <tr>\n",
       "      <th>7</th>\n",
       "      <td>3984.0</td>\n",
       "      <td>3229.0</td>\n",
       "      <td>91.0</td>\n",
       "      <td>23763.0</td>\n",
       "      <td>1.0</td>\n",
       "      <td>0.0</td>\n",
       "    </tr>\n",
       "    <tr>\n",
       "      <th>8</th>\n",
       "      <td>8611.0</td>\n",
       "      <td>3273.0</td>\n",
       "      <td>85.0</td>\n",
       "      <td>12127.0</td>\n",
       "      <td>0.0</td>\n",
       "      <td>0.0</td>\n",
       "    </tr>\n",
       "    <tr>\n",
       "      <th>9</th>\n",
       "      <td>9369.0</td>\n",
       "      <td>1416.0</td>\n",
       "      <td>44.0</td>\n",
       "      <td>904.0</td>\n",
       "      <td>1.0</td>\n",
       "      <td>1.0</td>\n",
       "    </tr>\n",
       "  </tbody>\n",
       "</table>\n",
       "</div>"
      ],
      "text/plain": [
       "     name developer  percent_positive  num_reviews multiplayer  mature\n",
       "0  1862.0    5393.0              92.0      42550.0         1.0     0.0\n",
       "1  5916.0    3409.0              49.0     836608.0         1.0     1.0\n",
       "2   666.0    2003.0              71.0       7030.0         1.0     0.0\n",
       "3  1998.0     641.0              61.0     167115.0         1.0     0.0\n",
       "4  2529.0     733.0              74.0      11481.0         1.0     0.0\n",
       "5  3489.0    3904.0               NaN          NaN         1.0     0.0\n",
       "6  2190.0     727.0              92.0       9645.0         1.0     1.0\n",
       "7  3984.0    3229.0              91.0      23763.0         1.0     0.0\n",
       "8  8611.0    3273.0              85.0      12127.0         0.0     0.0\n",
       "9  9369.0    1416.0              44.0        904.0         1.0     1.0"
      ]
     },
     "execution_count": 16,
     "metadata": {},
     "output_type": "execute_result"
    }
   ],
   "source": [
    "data1.head(10)"
   ]
  },
  {
   "cell_type": "code",
   "execution_count": null,
   "id": "757e4cca-e52c-4e9c-bb45-c297292b29fb",
   "metadata": {},
   "outputs": [
    {
     "data": {
      "application/com.datacamp.data-table.v1+json": {
       "is_truncated": false,
       "table": {
        "data": [
         {
          "developer": 2215,
          "index": 10007,
          "mature": 0,
          "multiplayer": 0,
          "name": 8304,
          "num_reviews": null,
          "percent_positive": null
         },
         {
          "developer": 2066,
          "index": 10008,
          "mature": 0,
          "multiplayer": 0,
          "name": 3940,
          "num_reviews": null,
          "percent_positive": null
         },
         {
          "developer": 522,
          "index": 10009,
          "mature": 0,
          "multiplayer": 0,
          "name": 4306,
          "num_reviews": 18,
          "percent_positive": 100
         },
         {
          "developer": 5624,
          "index": 10010,
          "mature": 0,
          "multiplayer": 0,
          "name": 8901,
          "num_reviews": null,
          "percent_positive": null
         },
         {
          "developer": 3990,
          "index": 10011,
          "mature": 0,
          "multiplayer": 0,
          "name": 3117,
          "num_reviews": null,
          "percent_positive": null
         }
        ],
        "schema": {
         "fields": [
          {
           "name": "index",
           "type": "integer"
          },
          {
           "name": "name",
           "type": "number"
          },
          {
           "name": "developer",
           "type": "string"
          },
          {
           "name": "percent_positive",
           "type": "number"
          },
          {
           "name": "num_reviews",
           "type": "number"
          },
          {
           "name": "multiplayer",
           "type": "string"
          },
          {
           "name": "mature",
           "type": "number"
          }
         ],
         "pandas_version": "0.20.0",
         "primaryKey": [
          "index"
         ]
        }
       },
       "total_rows": 5
      },
      "text/html": [
       "<div>\n",
       "<style scoped>\n",
       "    .dataframe tbody tr th:only-of-type {\n",
       "        vertical-align: middle;\n",
       "    }\n",
       "\n",
       "    .dataframe tbody tr th {\n",
       "        vertical-align: top;\n",
       "    }\n",
       "\n",
       "    .dataframe thead th {\n",
       "        text-align: right;\n",
       "    }\n",
       "</style>\n",
       "<table border=\"1\" class=\"dataframe\">\n",
       "  <thead>\n",
       "    <tr style=\"text-align: right;\">\n",
       "      <th></th>\n",
       "      <th>name</th>\n",
       "      <th>developer</th>\n",
       "      <th>percent_positive</th>\n",
       "      <th>num_reviews</th>\n",
       "      <th>multiplayer</th>\n",
       "      <th>mature</th>\n",
       "    </tr>\n",
       "  </thead>\n",
       "  <tbody>\n",
       "    <tr>\n",
       "      <th>10007</th>\n",
       "      <td>8304.0</td>\n",
       "      <td>2215.0</td>\n",
       "      <td>NaN</td>\n",
       "      <td>NaN</td>\n",
       "      <td>0.0</td>\n",
       "      <td>0.0</td>\n",
       "    </tr>\n",
       "    <tr>\n",
       "      <th>10008</th>\n",
       "      <td>3940.0</td>\n",
       "      <td>2066.0</td>\n",
       "      <td>NaN</td>\n",
       "      <td>NaN</td>\n",
       "      <td>0.0</td>\n",
       "      <td>0.0</td>\n",
       "    </tr>\n",
       "    <tr>\n",
       "      <th>10009</th>\n",
       "      <td>4306.0</td>\n",
       "      <td>522.0</td>\n",
       "      <td>100.0</td>\n",
       "      <td>18.0</td>\n",
       "      <td>0.0</td>\n",
       "      <td>0.0</td>\n",
       "    </tr>\n",
       "    <tr>\n",
       "      <th>10010</th>\n",
       "      <td>8901.0</td>\n",
       "      <td>5624.0</td>\n",
       "      <td>NaN</td>\n",
       "      <td>NaN</td>\n",
       "      <td>0.0</td>\n",
       "      <td>0.0</td>\n",
       "    </tr>\n",
       "    <tr>\n",
       "      <th>10011</th>\n",
       "      <td>3117.0</td>\n",
       "      <td>3990.0</td>\n",
       "      <td>NaN</td>\n",
       "      <td>NaN</td>\n",
       "      <td>0.0</td>\n",
       "      <td>0.0</td>\n",
       "    </tr>\n",
       "  </tbody>\n",
       "</table>\n",
       "</div>"
      ],
      "text/plain": [
       "         name developer  percent_positive  num_reviews multiplayer  mature\n",
       "10007  8304.0    2215.0               NaN          NaN         0.0     0.0\n",
       "10008  3940.0    2066.0               NaN          NaN         0.0     0.0\n",
       "10009  4306.0     522.0             100.0         18.0         0.0     0.0\n",
       "10010  8901.0    5624.0               NaN          NaN         0.0     0.0\n",
       "10011  3117.0    3990.0               NaN          NaN         0.0     0.0"
      ]
     },
     "execution_count": 17,
     "metadata": {},
     "output_type": "execute_result"
    }
   ],
   "source": [
    "data2.head()"
   ]
  },
  {
   "cell_type": "code",
   "execution_count": null,
   "id": "3c47662c-be31-4847-a548-95f1c6aa58b9",
   "metadata": {},
   "outputs": [],
   "source": [
    "# !pip install -qq fancyimpute"
   ]
  },
  {
   "cell_type": "code",
   "execution_count": null,
   "id": "36d4860e-915c-48a4-acd4-2b70a6ca576d",
   "metadata": {},
   "outputs": [
    {
     "name": "stdout",
     "output_type": "stream",
     "text": [
      "Imputing row 1/10000 with 0 missing, elapsed time: 14.567\n",
      "Imputing row 101/10000 with 0 missing, elapsed time: 14.570\n",
      "Imputing row 201/10000 with 0 missing, elapsed time: 14.572\n",
      "Imputing row 301/10000 with 0 missing, elapsed time: 14.574\n",
      "Imputing row 401/10000 with 0 missing, elapsed time: 14.576\n",
      "Imputing row 501/10000 with 0 missing, elapsed time: 14.580\n",
      "Imputing row 601/10000 with 0 missing, elapsed time: 14.582\n",
      "Imputing row 701/10000 with 0 missing, elapsed time: 14.584\n",
      "Imputing row 801/10000 with 0 missing, elapsed time: 14.585\n",
      "Imputing row 901/10000 with 0 missing, elapsed time: 14.588\n",
      "Imputing row 1001/10000 with 0 missing, elapsed time: 14.589\n",
      "Imputing row 1101/10000 with 1 missing, elapsed time: 14.591\n",
      "Imputing row 1201/10000 with 0 missing, elapsed time: 14.594\n",
      "Imputing row 1301/10000 with 0 missing, elapsed time: 14.596\n",
      "Imputing row 1401/10000 with 2 missing, elapsed time: 14.598\n",
      "Imputing row 1501/10000 with 0 missing, elapsed time: 14.600\n",
      "Imputing row 1601/10000 with 0 missing, elapsed time: 14.602\n",
      "Imputing row 1701/10000 with 0 missing, elapsed time: 14.604\n",
      "Imputing row 1801/10000 with 0 missing, elapsed time: 14.606\n",
      "Imputing row 1901/10000 with 0 missing, elapsed time: 14.608\n",
      "Imputing row 2001/10000 with 0 missing, elapsed time: 14.609\n",
      "Imputing row 2101/10000 with 2 missing, elapsed time: 14.611\n",
      "Imputing row 2201/10000 with 0 missing, elapsed time: 14.613\n",
      "Imputing row 2301/10000 with 0 missing, elapsed time: 14.615\n",
      "Imputing row 2401/10000 with 0 missing, elapsed time: 14.616\n",
      "Imputing row 2501/10000 with 2 missing, elapsed time: 14.618\n",
      "Imputing row 2601/10000 with 0 missing, elapsed time: 14.621\n",
      "Imputing row 2701/10000 with 0 missing, elapsed time: 14.623\n",
      "Imputing row 2801/10000 with 0 missing, elapsed time: 14.625\n",
      "Imputing row 2901/10000 with 0 missing, elapsed time: 14.626\n",
      "Imputing row 3001/10000 with 0 missing, elapsed time: 14.629\n",
      "Imputing row 3101/10000 with 0 missing, elapsed time: 14.631\n",
      "Imputing row 3201/10000 with 0 missing, elapsed time: 14.633\n",
      "Imputing row 3301/10000 with 2 missing, elapsed time: 14.635\n",
      "Imputing row 3401/10000 with 0 missing, elapsed time: 14.637\n",
      "Imputing row 3501/10000 with 0 missing, elapsed time: 14.639\n",
      "Imputing row 3601/10000 with 0 missing, elapsed time: 14.642\n",
      "Imputing row 3701/10000 with 0 missing, elapsed time: 14.644\n",
      "Imputing row 3801/10000 with 0 missing, elapsed time: 14.647\n",
      "Imputing row 3901/10000 with 0 missing, elapsed time: 14.650\n",
      "Imputing row 4001/10000 with 0 missing, elapsed time: 14.653\n",
      "Imputing row 4101/10000 with 0 missing, elapsed time: 14.655\n",
      "Imputing row 4201/10000 with 0 missing, elapsed time: 14.658\n",
      "Imputing row 4301/10000 with 0 missing, elapsed time: 14.661\n",
      "Imputing row 4401/10000 with 0 missing, elapsed time: 14.664\n",
      "Imputing row 4501/10000 with 2 missing, elapsed time: 14.667\n",
      "Imputing row 4601/10000 with 0 missing, elapsed time: 14.670\n",
      "Imputing row 4701/10000 with 0 missing, elapsed time: 14.672\n",
      "Imputing row 4801/10000 with 0 missing, elapsed time: 14.676\n",
      "Imputing row 4901/10000 with 0 missing, elapsed time: 14.679\n",
      "Imputing row 5001/10000 with 2 missing, elapsed time: 14.683\n",
      "Imputing row 5101/10000 with 0 missing, elapsed time: 14.687\n",
      "Imputing row 5201/10000 with 0 missing, elapsed time: 14.692\n",
      "Imputing row 5301/10000 with 0 missing, elapsed time: 14.696\n",
      "Imputing row 5401/10000 with 0 missing, elapsed time: 14.701\n",
      "Imputing row 5501/10000 with 0 missing, elapsed time: 14.706\n",
      "Imputing row 5601/10000 with 0 missing, elapsed time: 14.710\n",
      "Imputing row 5701/10000 with 2 missing, elapsed time: 14.715\n",
      "Imputing row 5801/10000 with 0 missing, elapsed time: 14.719\n",
      "Imputing row 5901/10000 with 0 missing, elapsed time: 14.723\n",
      "Imputing row 6001/10000 with 2 missing, elapsed time: 14.727\n",
      "Imputing row 6101/10000 with 2 missing, elapsed time: 14.732\n",
      "Imputing row 6201/10000 with 0 missing, elapsed time: 14.736\n",
      "Imputing row 6301/10000 with 0 missing, elapsed time: 14.741\n",
      "Imputing row 6401/10000 with 0 missing, elapsed time: 14.744\n",
      "Imputing row 6501/10000 with 2 missing, elapsed time: 14.749\n",
      "Imputing row 6601/10000 with 0 missing, elapsed time: 14.753\n",
      "Imputing row 6701/10000 with 0 missing, elapsed time: 14.757\n",
      "Imputing row 6801/10000 with 0 missing, elapsed time: 14.762\n",
      "Imputing row 6901/10000 with 0 missing, elapsed time: 14.768\n",
      "Imputing row 7001/10000 with 2 missing, elapsed time: 14.772\n",
      "Imputing row 7101/10000 with 2 missing, elapsed time: 14.778\n",
      "Imputing row 7201/10000 with 2 missing, elapsed time: 14.784\n",
      "Imputing row 7301/10000 with 2 missing, elapsed time: 14.794\n",
      "Imputing row 7401/10000 with 2 missing, elapsed time: 14.800\n",
      "Imputing row 7501/10000 with 0 missing, elapsed time: 14.803\n",
      "Imputing row 7601/10000 with 0 missing, elapsed time: 14.812\n",
      "Imputing row 7701/10000 with 0 missing, elapsed time: 14.816\n",
      "Imputing row 7801/10000 with 0 missing, elapsed time: 14.821\n",
      "Imputing row 7901/10000 with 0 missing, elapsed time: 14.825\n",
      "Imputing row 8001/10000 with 0 missing, elapsed time: 14.826\n",
      "Imputing row 8101/10000 with 0 missing, elapsed time: 14.830\n",
      "Imputing row 8201/10000 with 0 missing, elapsed time: 14.832\n",
      "Imputing row 8301/10000 with 0 missing, elapsed time: 14.834\n",
      "Imputing row 8401/10000 with 0 missing, elapsed time: 14.835\n",
      "Imputing row 8501/10000 with 0 missing, elapsed time: 14.836\n",
      "Imputing row 8601/10000 with 0 missing, elapsed time: 14.837\n",
      "Imputing row 8701/10000 with 0 missing, elapsed time: 14.838\n",
      "Imputing row 8801/10000 with 0 missing, elapsed time: 14.839\n",
      "Imputing row 8901/10000 with 0 missing, elapsed time: 14.840\n",
      "Imputing row 9001/10000 with 0 missing, elapsed time: 14.841\n",
      "Imputing row 9101/10000 with 0 missing, elapsed time: 14.842\n",
      "Imputing row 9201/10000 with 0 missing, elapsed time: 14.843\n",
      "Imputing row 9301/10000 with 2 missing, elapsed time: 14.844\n",
      "Imputing row 9401/10000 with 0 missing, elapsed time: 14.847\n",
      "Imputing row 9501/10000 with 0 missing, elapsed time: 14.848\n",
      "Imputing row 9601/10000 with 2 missing, elapsed time: 14.856\n",
      "Imputing row 9701/10000 with 2 missing, elapsed time: 14.867\n",
      "Imputing row 9801/10000 with 0 missing, elapsed time: 14.875\n",
      "Imputing row 9901/10000 with 2 missing, elapsed time: 14.885\n"
     ]
    }
   ],
   "source": [
    "from fancyimpute import KNN\n",
    "\n",
    "KNN_imputer = KNN()\n",
    "\n",
    "data1.iloc[:, :] = np.round(KNN_imputer.fit_transform(data1))\n",
    "\n",
    "for col_name in cols:\n",
    "\n",
    "    # Reshape the data\n",
    "    reshaped = data1[col_name].values.reshape(-1, 1)\n",
    "\n",
    "    # Perform inverse transform of the ordinally encoded columns\n",
    "    data1[col_name] = ordinal_enc_dict1[col_name].inverse_transform(reshaped)"
   ]
  },
  {
   "cell_type": "code",
   "execution_count": null,
   "id": "07a8dbb3-50c3-4b53-9612-0e3ba6565eaa",
   "metadata": {},
   "outputs": [
    {
     "name": "stdout",
     "output_type": "stream",
     "text": [
      "Imputing row 1/10000 with 2 missing, elapsed time: 14.980\n",
      "Imputing row 101/10000 with 0 missing, elapsed time: 14.993\n",
      "Imputing row 201/10000 with 2 missing, elapsed time: 15.006\n",
      "Imputing row 301/10000 with 2 missing, elapsed time: 15.020\n",
      "Imputing row 401/10000 with 2 missing, elapsed time: 15.035\n",
      "Imputing row 501/10000 with 2 missing, elapsed time: 15.050\n",
      "Imputing row 601/10000 with 2 missing, elapsed time: 15.062\n",
      "Imputing row 701/10000 with 2 missing, elapsed time: 15.075\n",
      "Imputing row 801/10000 with 2 missing, elapsed time: 15.089\n",
      "Imputing row 901/10000 with 2 missing, elapsed time: 15.104\n",
      "Imputing row 1001/10000 with 2 missing, elapsed time: 15.118\n",
      "Imputing row 1101/10000 with 2 missing, elapsed time: 15.133\n",
      "Imputing row 1201/10000 with 2 missing, elapsed time: 15.148\n",
      "Imputing row 1301/10000 with 2 missing, elapsed time: 15.163\n",
      "Imputing row 1401/10000 with 2 missing, elapsed time: 15.177\n",
      "Imputing row 1501/10000 with 2 missing, elapsed time: 15.192\n",
      "Imputing row 1601/10000 with 2 missing, elapsed time: 15.207\n",
      "Imputing row 1701/10000 with 2 missing, elapsed time: 15.221\n",
      "Imputing row 1801/10000 with 0 missing, elapsed time: 15.236\n",
      "Imputing row 1901/10000 with 2 missing, elapsed time: 15.248\n",
      "Imputing row 2001/10000 with 2 missing, elapsed time: 15.261\n",
      "Imputing row 2101/10000 with 0 missing, elapsed time: 15.273\n",
      "Imputing row 2201/10000 with 2 missing, elapsed time: 15.284\n",
      "Imputing row 2301/10000 with 0 missing, elapsed time: 15.298\n",
      "Imputing row 2401/10000 with 0 missing, elapsed time: 15.311\n",
      "Imputing row 2501/10000 with 2 missing, elapsed time: 15.324\n",
      "Imputing row 2601/10000 with 0 missing, elapsed time: 15.338\n",
      "Imputing row 2701/10000 with 2 missing, elapsed time: 15.357\n",
      "Imputing row 2801/10000 with 2 missing, elapsed time: 15.376\n",
      "Imputing row 2901/10000 with 0 missing, elapsed time: 15.398\n",
      "Imputing row 3001/10000 with 2 missing, elapsed time: 15.410\n",
      "Imputing row 3101/10000 with 2 missing, elapsed time: 15.422\n",
      "Imputing row 3201/10000 with 0 missing, elapsed time: 15.436\n",
      "Imputing row 3301/10000 with 2 missing, elapsed time: 15.449\n",
      "Imputing row 3401/10000 with 2 missing, elapsed time: 15.465\n",
      "Imputing row 3501/10000 with 2 missing, elapsed time: 15.476\n",
      "Imputing row 3601/10000 with 2 missing, elapsed time: 15.487\n",
      "Imputing row 3701/10000 with 2 missing, elapsed time: 15.497\n",
      "Imputing row 3801/10000 with 0 missing, elapsed time: 15.508\n",
      "Imputing row 3901/10000 with 0 missing, elapsed time: 15.517\n",
      "Imputing row 4001/10000 with 0 missing, elapsed time: 15.527\n",
      "Imputing row 4101/10000 with 0 missing, elapsed time: 15.538\n",
      "Imputing row 4201/10000 with 2 missing, elapsed time: 15.550\n",
      "Imputing row 4301/10000 with 0 missing, elapsed time: 15.562\n",
      "Imputing row 4401/10000 with 0 missing, elapsed time: 15.576\n",
      "Imputing row 4501/10000 with 2 missing, elapsed time: 15.588\n",
      "Imputing row 4601/10000 with 0 missing, elapsed time: 15.604\n",
      "Imputing row 4701/10000 with 2 missing, elapsed time: 15.617\n",
      "Imputing row 4801/10000 with 2 missing, elapsed time: 15.630\n",
      "Imputing row 4901/10000 with 0 missing, elapsed time: 15.641\n",
      "Imputing row 5001/10000 with 2 missing, elapsed time: 15.656\n",
      "Imputing row 5101/10000 with 2 missing, elapsed time: 15.670\n",
      "Imputing row 5201/10000 with 2 missing, elapsed time: 15.683\n",
      "Imputing row 5301/10000 with 2 missing, elapsed time: 15.697\n",
      "Imputing row 5401/10000 with 2 missing, elapsed time: 15.710\n",
      "Imputing row 5501/10000 with 2 missing, elapsed time: 15.721\n",
      "Imputing row 5601/10000 with 0 missing, elapsed time: 15.734\n",
      "Imputing row 5701/10000 with 2 missing, elapsed time: 15.747\n",
      "Imputing row 5801/10000 with 2 missing, elapsed time: 15.758\n",
      "Imputing row 5901/10000 with 0 missing, elapsed time: 15.770\n",
      "Imputing row 6001/10000 with 0 missing, elapsed time: 15.784\n",
      "Imputing row 6101/10000 with 2 missing, elapsed time: 15.795\n",
      "Imputing row 6201/10000 with 2 missing, elapsed time: 15.807\n",
      "Imputing row 6301/10000 with 0 missing, elapsed time: 15.819\n",
      "Imputing row 6401/10000 with 2 missing, elapsed time: 15.830\n",
      "Imputing row 6501/10000 with 0 missing, elapsed time: 15.840\n",
      "Imputing row 6601/10000 with 0 missing, elapsed time: 15.851\n",
      "Imputing row 6701/10000 with 2 missing, elapsed time: 15.862\n",
      "Imputing row 6801/10000 with 2 missing, elapsed time: 15.874\n",
      "Imputing row 6901/10000 with 2 missing, elapsed time: 15.882\n",
      "Imputing row 7001/10000 with 0 missing, elapsed time: 15.893\n",
      "Imputing row 7101/10000 with 2 missing, elapsed time: 15.905\n",
      "Imputing row 7201/10000 with 2 missing, elapsed time: 15.915\n",
      "Imputing row 7301/10000 with 2 missing, elapsed time: 15.927\n",
      "Imputing row 7401/10000 with 0 missing, elapsed time: 15.936\n",
      "Imputing row 7501/10000 with 2 missing, elapsed time: 15.946\n",
      "Imputing row 7601/10000 with 2 missing, elapsed time: 15.956\n",
      "Imputing row 7701/10000 with 0 missing, elapsed time: 15.966\n",
      "Imputing row 7801/10000 with 2 missing, elapsed time: 15.975\n",
      "Imputing row 7901/10000 with 0 missing, elapsed time: 15.986\n",
      "Imputing row 8001/10000 with 0 missing, elapsed time: 15.996\n",
      "Imputing row 8101/10000 with 2 missing, elapsed time: 16.007\n",
      "Imputing row 8201/10000 with 0 missing, elapsed time: 16.016\n",
      "Imputing row 8301/10000 with 2 missing, elapsed time: 16.025\n",
      "Imputing row 8401/10000 with 2 missing, elapsed time: 16.034\n",
      "Imputing row 8501/10000 with 2 missing, elapsed time: 16.047\n",
      "Imputing row 8601/10000 with 2 missing, elapsed time: 16.061\n",
      "Imputing row 8701/10000 with 2 missing, elapsed time: 16.071\n",
      "Imputing row 8801/10000 with 2 missing, elapsed time: 16.081\n",
      "Imputing row 8901/10000 with 2 missing, elapsed time: 16.090\n",
      "Imputing row 9001/10000 with 0 missing, elapsed time: 16.095\n",
      "Imputing row 9101/10000 with 0 missing, elapsed time: 16.101\n",
      "Imputing row 9201/10000 with 2 missing, elapsed time: 16.112\n",
      "Imputing row 9301/10000 with 3 missing, elapsed time: 16.121\n",
      "Imputing row 9401/10000 with 2 missing, elapsed time: 16.129\n",
      "Imputing row 9501/10000 with 2 missing, elapsed time: 16.140\n",
      "Imputing row 9601/10000 with 0 missing, elapsed time: 16.144\n",
      "Imputing row 9701/10000 with 2 missing, elapsed time: 16.152\n",
      "Imputing row 9801/10000 with 0 missing, elapsed time: 16.159\n",
      "Imputing row 9901/10000 with 2 missing, elapsed time: 16.165\n"
     ]
    }
   ],
   "source": [
    "data2.iloc[:, :] = np.round(KNN_imputer.fit_transform(data2))\n",
    "\n",
    "for col_name in cols:\n",
    "\n",
    "    # Reshape the data\n",
    "    reshaped = data2[col_name].values.reshape(-1, 1)\n",
    "\n",
    "    # Perform inverse transform of the ordinally encoded columns\n",
    "    data2[col_name] = ordinal_enc_dict2[col_name].inverse_transform(reshaped)"
   ]
  },
  {
   "cell_type": "code",
   "execution_count": null,
   "id": "f2900071-c4cc-43a4-80e8-bef2a395c42b",
   "metadata": {},
   "outputs": [
    {
     "data": {
      "application/com.datacamp.data-table.v1+json": {
       "is_truncated": false,
       "table": {
        "data": [
         {
          "developer": "id Software",
          "index": 0,
          "mature": false,
          "multiplayer": true,
          "name": "DOOM",
          "num_reviews": 42550,
          "percent_positive": 92
         },
         {
          "developer": "PUBG Corporation",
          "index": 1,
          "mature": true,
          "multiplayer": true,
          "name": "PLAYERUNKNOWN'S BATTLEGROUNDS",
          "num_reviews": 836608,
          "percent_positive": 49
         },
         {
          "developer": "Harebrained Schemes",
          "index": 2,
          "mature": false,
          "multiplayer": true,
          "name": "BATTLETECH",
          "num_reviews": 7030,
          "percent_positive": 71
         },
         {
          "developer": "Bohemia Interactive",
          "index": 3,
          "mature": false,
          "multiplayer": true,
          "name": "DayZ",
          "num_reviews": 167115,
          "percent_positive": 61
         },
         {
          "developer": "CCP",
          "index": 4,
          "mature": false,
          "multiplayer": true,
          "name": "EVE Online",
          "num_reviews": 11481,
          "percent_positive": 74
         }
        ],
        "schema": {
         "fields": [
          {
           "name": "index",
           "type": "integer"
          },
          {
           "name": "name",
           "type": "string"
          },
          {
           "name": "developer",
           "type": "string"
          },
          {
           "name": "percent_positive",
           "type": "number"
          },
          {
           "name": "num_reviews",
           "type": "number"
          },
          {
           "name": "multiplayer",
           "type": "string"
          },
          {
           "name": "mature",
           "type": "boolean"
          }
         ],
         "pandas_version": "0.20.0",
         "primaryKey": [
          "index"
         ]
        }
       },
       "total_rows": 5
      },
      "text/html": [
       "<div>\n",
       "<style scoped>\n",
       "    .dataframe tbody tr th:only-of-type {\n",
       "        vertical-align: middle;\n",
       "    }\n",
       "\n",
       "    .dataframe tbody tr th {\n",
       "        vertical-align: top;\n",
       "    }\n",
       "\n",
       "    .dataframe thead th {\n",
       "        text-align: right;\n",
       "    }\n",
       "</style>\n",
       "<table border=\"1\" class=\"dataframe\">\n",
       "  <thead>\n",
       "    <tr style=\"text-align: right;\">\n",
       "      <th></th>\n",
       "      <th>name</th>\n",
       "      <th>developer</th>\n",
       "      <th>percent_positive</th>\n",
       "      <th>num_reviews</th>\n",
       "      <th>multiplayer</th>\n",
       "      <th>mature</th>\n",
       "    </tr>\n",
       "  </thead>\n",
       "  <tbody>\n",
       "    <tr>\n",
       "      <th>0</th>\n",
       "      <td>DOOM</td>\n",
       "      <td>id Software</td>\n",
       "      <td>92.0</td>\n",
       "      <td>42550.0</td>\n",
       "      <td>True</td>\n",
       "      <td>False</td>\n",
       "    </tr>\n",
       "    <tr>\n",
       "      <th>1</th>\n",
       "      <td>PLAYERUNKNOWN'S BATTLEGROUNDS</td>\n",
       "      <td>PUBG Corporation</td>\n",
       "      <td>49.0</td>\n",
       "      <td>836608.0</td>\n",
       "      <td>True</td>\n",
       "      <td>True</td>\n",
       "    </tr>\n",
       "    <tr>\n",
       "      <th>2</th>\n",
       "      <td>BATTLETECH</td>\n",
       "      <td>Harebrained Schemes</td>\n",
       "      <td>71.0</td>\n",
       "      <td>7030.0</td>\n",
       "      <td>True</td>\n",
       "      <td>False</td>\n",
       "    </tr>\n",
       "    <tr>\n",
       "      <th>3</th>\n",
       "      <td>DayZ</td>\n",
       "      <td>Bohemia Interactive</td>\n",
       "      <td>61.0</td>\n",
       "      <td>167115.0</td>\n",
       "      <td>True</td>\n",
       "      <td>False</td>\n",
       "    </tr>\n",
       "    <tr>\n",
       "      <th>4</th>\n",
       "      <td>EVE Online</td>\n",
       "      <td>CCP</td>\n",
       "      <td>74.0</td>\n",
       "      <td>11481.0</td>\n",
       "      <td>True</td>\n",
       "      <td>False</td>\n",
       "    </tr>\n",
       "  </tbody>\n",
       "</table>\n",
       "</div>"
      ],
      "text/plain": [
       "                            name            developer  percent_positive  \\\n",
       "0                           DOOM          id Software              92.0   \n",
       "1  PLAYERUNKNOWN'S BATTLEGROUNDS     PUBG Corporation              49.0   \n",
       "2                     BATTLETECH  Harebrained Schemes              71.0   \n",
       "3                           DayZ  Bohemia Interactive              61.0   \n",
       "4                     EVE Online                  CCP              74.0   \n",
       "\n",
       "   num_reviews multiplayer  mature  \n",
       "0      42550.0        True   False  \n",
       "1     836608.0        True    True  \n",
       "2       7030.0        True   False  \n",
       "3     167115.0        True   False  \n",
       "4      11481.0        True   False  "
      ]
     },
     "execution_count": 21,
     "metadata": {},
     "output_type": "execute_result"
    }
   ],
   "source": [
    "data1.head()"
   ]
  },
  {
   "cell_type": "code",
   "execution_count": null,
   "id": "556a4599-f9cb-4049-88c9-7e3291da2587",
   "metadata": {},
   "outputs": [
    {
     "data": {
      "application/com.datacamp.data-table.v1+json": {
       "is_truncated": false,
       "table": {
        "data": [
         {
          "developer": "Hosted Games",
          "index": 10007,
          "mature": false,
          "multiplayer": false,
          "name": "The Harbinger's Head",
          "num_reviews": 24,
          "percent_positive": 90
         },
         {
          "developer": "Guillaume Thiolliere",
          "index": 10008,
          "mature": false,
          "multiplayer": false,
          "name": "HyperZen Training",
          "num_reviews": 71,
          "percent_positive": 81
         },
         {
          "developer": "Beatrice",
          "index": 10009,
          "mature": false,
          "multiplayer": false,
          "name": "Kilcount",
          "num_reviews": 18,
          "percent_positive": 100
         },
         {
          "developer": "origamihero games",
          "index": 10010,
          "mature": false,
          "multiplayer": false,
          "name": "Treasure Hunter Man 2",
          "num_reviews": 29,
          "percent_positive": 84
         },
         {
          "developer": "Red Dolphin Games",
          "index": 10011,
          "mature": false,
          "multiplayer": false,
          "name": "Fitzzle Wise Owls",
          "num_reviews": 11,
          "percent_positive": 72
         }
        ],
        "schema": {
         "fields": [
          {
           "name": "index",
           "type": "integer"
          },
          {
           "name": "name",
           "type": "string"
          },
          {
           "name": "developer",
           "type": "string"
          },
          {
           "name": "percent_positive",
           "type": "number"
          },
          {
           "name": "num_reviews",
           "type": "number"
          },
          {
           "name": "multiplayer",
           "type": "string"
          },
          {
           "name": "mature",
           "type": "boolean"
          }
         ],
         "pandas_version": "0.20.0",
         "primaryKey": [
          "index"
         ]
        }
       },
       "total_rows": 5
      },
      "text/html": [
       "<div>\n",
       "<style scoped>\n",
       "    .dataframe tbody tr th:only-of-type {\n",
       "        vertical-align: middle;\n",
       "    }\n",
       "\n",
       "    .dataframe tbody tr th {\n",
       "        vertical-align: top;\n",
       "    }\n",
       "\n",
       "    .dataframe thead th {\n",
       "        text-align: right;\n",
       "    }\n",
       "</style>\n",
       "<table border=\"1\" class=\"dataframe\">\n",
       "  <thead>\n",
       "    <tr style=\"text-align: right;\">\n",
       "      <th></th>\n",
       "      <th>name</th>\n",
       "      <th>developer</th>\n",
       "      <th>percent_positive</th>\n",
       "      <th>num_reviews</th>\n",
       "      <th>multiplayer</th>\n",
       "      <th>mature</th>\n",
       "    </tr>\n",
       "  </thead>\n",
       "  <tbody>\n",
       "    <tr>\n",
       "      <th>10007</th>\n",
       "      <td>The Harbinger's Head</td>\n",
       "      <td>Hosted Games</td>\n",
       "      <td>90.0</td>\n",
       "      <td>24.0</td>\n",
       "      <td>False</td>\n",
       "      <td>False</td>\n",
       "    </tr>\n",
       "    <tr>\n",
       "      <th>10008</th>\n",
       "      <td>HyperZen Training</td>\n",
       "      <td>Guillaume Thiolliere</td>\n",
       "      <td>81.0</td>\n",
       "      <td>71.0</td>\n",
       "      <td>False</td>\n",
       "      <td>False</td>\n",
       "    </tr>\n",
       "    <tr>\n",
       "      <th>10009</th>\n",
       "      <td>Kilcount</td>\n",
       "      <td>Beatrice</td>\n",
       "      <td>100.0</td>\n",
       "      <td>18.0</td>\n",
       "      <td>False</td>\n",
       "      <td>False</td>\n",
       "    </tr>\n",
       "    <tr>\n",
       "      <th>10010</th>\n",
       "      <td>Treasure Hunter Man 2</td>\n",
       "      <td>origamihero games</td>\n",
       "      <td>84.0</td>\n",
       "      <td>29.0</td>\n",
       "      <td>False</td>\n",
       "      <td>False</td>\n",
       "    </tr>\n",
       "    <tr>\n",
       "      <th>10011</th>\n",
       "      <td>Fitzzle Wise Owls</td>\n",
       "      <td>Red Dolphin Games</td>\n",
       "      <td>72.0</td>\n",
       "      <td>11.0</td>\n",
       "      <td>False</td>\n",
       "      <td>False</td>\n",
       "    </tr>\n",
       "  </tbody>\n",
       "</table>\n",
       "</div>"
      ],
      "text/plain": [
       "                        name             developer  percent_positive  \\\n",
       "10007   The Harbinger's Head          Hosted Games              90.0   \n",
       "10008      HyperZen Training  Guillaume Thiolliere              81.0   \n",
       "10009               Kilcount              Beatrice             100.0   \n",
       "10010  Treasure Hunter Man 2     origamihero games              84.0   \n",
       "10011      Fitzzle Wise Owls     Red Dolphin Games              72.0   \n",
       "\n",
       "       num_reviews multiplayer  mature  \n",
       "10007         24.0       False   False  \n",
       "10008         71.0       False   False  \n",
       "10009         18.0       False   False  \n",
       "10010         29.0       False   False  \n",
       "10011         11.0       False   False  "
      ]
     },
     "execution_count": 22,
     "metadata": {},
     "output_type": "execute_result"
    }
   ],
   "source": [
    "data2.head()"
   ]
  },
  {
   "cell_type": "code",
   "execution_count": null,
   "id": "26fcac39-9b08-47fc-9d99-67c068437a79",
   "metadata": {},
   "outputs": [
    {
     "data": {
      "text/plain": [
       "name                0\n",
       "developer           0\n",
       "percent_positive    0\n",
       "num_reviews         0\n",
       "multiplayer         0\n",
       "mature              0\n",
       "dtype: int64"
      ]
     },
     "execution_count": 23,
     "metadata": {},
     "output_type": "execute_result"
    }
   ],
   "source": [
    "data1.isnull().sum()"
   ]
  },
  {
   "cell_type": "code",
   "execution_count": null,
   "id": "9062c272-f8e7-4bd8-a510-d54617f961b5",
   "metadata": {},
   "outputs": [
    {
     "data": {
      "text/plain": [
       "name                0\n",
       "developer           0\n",
       "percent_positive    0\n",
       "num_reviews         0\n",
       "multiplayer         0\n",
       "mature              0\n",
       "dtype: int64"
      ]
     },
     "execution_count": 24,
     "metadata": {},
     "output_type": "execute_result"
    }
   ],
   "source": [
    "data2.isnull().sum()"
   ]
  },
  {
   "cell_type": "markdown",
   "id": "56fd7116-9223-4ded-a4a5-6b4932ba00f8",
   "metadata": {
    "tags": []
   },
   "source": [
    "## Time for Modelling\n",
    "\n",
    "After imputing all the values and verifying them, now it is time for modelling. According to the problem we have to classify into categories using clustering techniques. I am using **KMeans Clustering** here. before feed this data into the model, again we have to encode it."
   ]
  },
  {
   "cell_type": "code",
   "execution_count": null,
   "id": "4075fbd4-039d-453b-9c2d-da23e8773a29",
   "metadata": {},
   "outputs": [],
   "source": [
    "ordinal_enc = OrdinalEncoder()\n",
    "\n",
    "for col_name in cols:\n",
    "    reshaped1 = data1[col_name].values.reshape(-1,1)\n",
    "    reshaped2 = data2[col_name].values.reshape(-1,1)\n",
    "    data1[col_name] = ordinal_enc.fit_transform(reshaped1)\n",
    "    data2[col_name] = ordinal_enc.fit_transform(reshaped2)"
   ]
  },
  {
   "cell_type": "markdown",
   "id": "1fdc1431-6a2b-46f2-8c01-eea560a93f40",
   "metadata": {},
   "source": [
    "### Applying PCA\n",
    "\n",
    "Now I am going to extract the important features using Principal Component Analysis aka PCA. Without this, KMeans works very bad in clustering the data."
   ]
  },
  {
   "cell_type": "code",
   "execution_count": null,
   "id": "b5fbbed4-ecb0-46c0-8d13-4a086c37144a",
   "metadata": {},
   "outputs": [],
   "source": [
    "from sklearn.decomposition import PCA"
   ]
  },
  {
   "cell_type": "code",
   "execution_count": null,
   "id": "82a5da15-97d7-4fe1-8a82-008d039194ac",
   "metadata": {},
   "outputs": [],
   "source": [
    "pca=PCA(n_components=2)\n",
    "pca_comp=pca.fit_transform(data1)\n",
    "pca_comp_test=pca.transform(data2)"
   ]
  },
  {
   "cell_type": "code",
   "execution_count": null,
   "id": "f8245220-f0fc-45b6-bbf7-a7c49832df53",
   "metadata": {},
   "outputs": [
    {
     "data": {
      "text/plain": [
       "(10000, 2)"
      ]
     },
     "execution_count": 28,
     "metadata": {},
     "output_type": "execute_result"
    }
   ],
   "source": [
    "pca_comp.shape"
   ]
  },
  {
   "cell_type": "code",
   "execution_count": null,
   "id": "fa4ffa95-d24e-43b5-b47b-706c5a1400f2",
   "metadata": {},
   "outputs": [
    {
     "data": {
      "text/plain": [
       "(10000, 2)"
      ]
     },
     "execution_count": 29,
     "metadata": {},
     "output_type": "execute_result"
    }
   ],
   "source": [
    "pca_comp_test.shape"
   ]
  },
  {
   "cell_type": "markdown",
   "id": "402d8f6a-37ee-4d94-a6c5-8d7582b4f641",
   "metadata": {},
   "source": [
    "### Determining the Number of Clusters\n",
    "\n",
    "Now there is a question that how to determine the number of clusters in kmeans. there is two methods for this - **silhoutte score** and **elbow method**. I am using Elbow method here. In this method, we have to plot a graph on different inertias based on different cluster numbers. we have to choose a cluster number from where there is minimal change in values. as this graph seems to be a human's elbow, so this method name is elbow method."
   ]
  },
  {
   "cell_type": "code",
   "execution_count": null,
   "id": "de189256-ef14-4ae7-bc4a-af36583ba212",
   "metadata": {},
   "outputs": [],
   "source": [
    "from sklearn.cluster import KMeans"
   ]
  },
  {
   "cell_type": "code",
   "execution_count": null,
   "id": "361dfb1b-551d-4180-b572-0018101ffcbc",
   "metadata": {},
   "outputs": [],
   "source": [
    "kmeans_per_k=[KMeans(n_clusters=k,init='k-means++',n_init=15).fit(pca_comp) for k in range(1,6)]\n",
    "inertias=[model.inertia_ for model in kmeans_per_k]"
   ]
  },
  {
   "cell_type": "code",
   "execution_count": null,
   "id": "b57a26ee-5e5c-4daa-b3d9-eb2a6776ae15",
   "metadata": {},
   "outputs": [],
   "source": [
    "import matplotlib.pyplot as plt"
   ]
  },
  {
   "cell_type": "code",
   "execution_count": null,
   "id": "a448309c-6fde-4527-8e46-a7d657f2bb44",
   "metadata": {},
   "outputs": [
    {
     "data": {
      "image/png": "[encoded data removed]",
      "text/plain": [
       "<Figure size 864x576 with 1 Axes>"
      ]
     },
     "metadata": {
      "needs_background": "light"
     },
     "output_type": "display_data"
    }
   ],
   "source": [
    "plt.figure(figsize=(12,8))\n",
    "plt.plot(range(1,6),inertias,\"bo-\")\n",
    "plt.xlabel(\"$k$\",fontsize=14)\n",
    "plt.ylabel('Inertia',fontsize=14)\n",
    "plt.show()"
   ]
  },
  {
   "cell_type": "markdown",
   "id": "b28e78a0-34de-4f6e-8fda-76f37b5cd19b",
   "metadata": {},
   "source": [
    "from this graph we can clearly see that 2 is the desired cluster number."
   ]
  },
  {
   "cell_type": "code",
   "execution_count": null,
   "id": "8814cafc-2d3f-441d-9292-f917bcb9acf9",
   "metadata": {},
   "outputs": [],
   "source": [
    "kmeans=KMeans(n_clusters=2,n_init=15)\n",
    "pred=kmeans.fit_predict(pca_comp)"
   ]
  },
  {
   "cell_type": "code",
   "execution_count": null,
   "id": "9c55cbd6-9c68-4f30-a8e5-cbf69b35f40e",
   "metadata": {},
   "outputs": [
    {
     "data": {
      "image/png": "[encoded data removed]",
      "text/plain": [
       "<Figure size 576x432 with 1 Axes>"
      ]
     },
     "metadata": {
      "needs_background": "light"
     },
     "output_type": "display_data"
    }
   ],
   "source": [
    "plt.figure(figsize=(8,6))\n",
    "plt.scatter(pca_comp[pred==0,0], pca_comp[pred==0,1],label='Cluster 1')\n",
    "plt.scatter(pca_comp[pred==1,0], pca_comp[pred==1,1],label='Cluster 2')\n",
    "plt.scatter(kmeans.cluster_centers_[:,0],kmeans.cluster_centers_[:,1],s=100,c='black',label='Centroids')\n",
    "plt.legend()\n",
    "plt.show()"
   ]
  },
  {
   "cell_type": "markdown",
   "id": "730268ae-245a-4e04-b404-ec52c80b598d",
   "metadata": {},
   "source": [
    "after training the model on 2 clusters and predicting on the training set, this is the result the machine cluster the games in two sections. though i don't include the price column here, machine still cluster them into two parts. Let's see the results in the testing set."
   ]
  },
  {
   "cell_type": "code",
   "execution_count": null,
   "id": "2a513178-5aa9-4910-8158-4ad905927382",
   "metadata": {},
   "outputs": [],
   "source": [
    "pred2 = kmeans.predict(pca_comp_test)"
   ]
  },
  {
   "cell_type": "code",
   "execution_count": null,
   "id": "51cdf850-e880-4907-9573-909de7bf7c90",
   "metadata": {},
   "outputs": [
    {
     "data": {
      "image/png": "[encoded data removed]",
      "text/plain": [
       "<Figure size 720x432 with 1 Axes>"
      ]
     },
     "metadata": {
      "needs_background": "light"
     },
     "output_type": "display_data"
    }
   ],
   "source": [
    "plt.figure(figsize=(10,6))\n",
    "plt.scatter(pca_comp_test[pred2==0,0], pca_comp_test[pred2==0,1],label='Cluster 1')\n",
    "plt.scatter(pca_comp_test[pred2==1,0], pca_comp_test[pred2==1,1],label='Cluster 2')\n",
    "plt.scatter(kmeans.cluster_centers_[:,0],kmeans.cluster_centers_[:,1],s=100,c='black',label='Centroids')\n",
    "plt.legend()\n",
    "plt.show()"
   ]
  },
  {
   "cell_type": "markdown",
   "id": "366fb3e2-9331-4c07-82f1-db60bfa9351c",
   "metadata": {},
   "source": [
    "here also the games are divided into the two clusters but the data points are missing for the cluster 2. It may happen that the testing set contains only those datapoints related to cluster 1."
   ]
  },
  {
   "cell_type": "markdown",
   "id": "c91bc1a5-3887-4cbd-ad3c-0e55896b9c91",
   "metadata": {},
   "source": [
    "## Outcome:\n",
    "\n",
    "From the above two plots we can clearly say that the model sucessfully make distinction between the two categories. the number of categories is 2 which is lesser than 5, so there is no difficulty for fitting into the platform homepage anymore."
   ]
  },
  {
   "cell_type": "markdown",
   "id": "d2b7735f-77f7-4036-8bda-d146ab0cd3e3",
   "metadata": {},
   "source": [
    "## Future Improvements:\n",
    "\n",
    "This model can be improved by considering the **original_price** column. For limited computational resources, I have to take a sample of the data and have to work on them. If I can take the whole data for model training, this model can be much accurate in clustering the data. there is also a scope for feature engineering like making a new column **positive_review** using **positive_percent** and **num_reviews** column."
   ]
  }
 ],
 "metadata": {
  "colab": {
   "name": "Welcome to DataCamp Workspaces.ipynb",
   "provenance": []
  },
  "kernelspec": {
   "display_name": "Python 3 (ipykernel)",
   "language": "python",
   "name": "python3"
  },
  "language_info": {
   "codemirror_mode": {
    "name": "ipython",
    "version": 3
   },
   "file_extension": ".py",
   "mimetype": "text/x-python",
   "name": "python",
   "nbconvert_exporter": "python",
   "pygments_lexer": "ipython3",
   "version": "3.8.10"
  }
 },
 "nbformat": 4,
 "nbformat_minor": 5
}
